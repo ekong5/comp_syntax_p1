{
 "cells": [
  {
   "cell_type": "code",
   "execution_count": null,
   "metadata": {},
   "outputs": [],
   "source": [
    "import re\n",
    "import spacy\n",
    "from spacy import displacy\n",
    "zlp = spacy.load('zh_core_web_lg')\n",
    "elp = spacy.load('en_core_web_lg')\n",
    "import torch\n",
    "import tensorflow\n",
    "from transformers import AutoModelForSeq2SeqLM, AutoTokenizer\n",
    "tokenizer = AutoTokenizer.from_pretrained(\"facebook/nllb-200-distilled-600M\")\n",
    "model = AutoModelForSeq2SeqLM.from_pretrained(\"facebook/nllb-200-distilled-600M\")\n"
   ]
  },
  {
   "cell_type": "code",
   "execution_count": 16,
   "metadata": {},
   "outputs": [],
   "source": [
    "import pandas as pd"
   ]
  },
  {
   "cell_type": "code",
   "execution_count": null,
   "metadata": {},
   "outputs": [],
   "source": [
    "def translate(sentence, src, target):\n",
    "  tokenizer = AutoTokenizer.from_pretrained(\n",
    "  \"facebook/nllb-200-distilled-600M\", token=False, src_lang=src)\n",
    "  inputs = tokenizer(sentence, return_tensors=\"pt\")\n",
    "  translated_tokens = model.generate(\n",
    "  **inputs, forced_bos_token_id=tokenizer.convert_tokens_to_ids(target), max_length=100)\n",
    "  translation = tokenizer.batch_decode(translated_tokens, skip_special_tokens=True)[0]\n",
    "  return translation\n",
    "\n"
   ]
  },
  {
   "cell_type": "code",
   "execution_count": 19,
   "metadata": {},
   "outputs": [],
   "source": [
    "src = []\n",
    "targ = []\n",
    "with open(\"zh_to_en.txt\", \"w\") as f:\n",
    "    with open(\"xinhua_samples.txt\", \"r\") as f2:\n",
    "        for line in f2:\n",
    "            translation = translate(line, \"zho_Hans\", \"eng_Latn\")\n",
    "            src.append(line)\n",
    "            targ.append(translation)\n",
    "\n",
    "src_targ = pd.DataFrame()\n",
    "src_targ[\"zho\"] = src\n",
    "src_targ[\"eng\"] = targ\n",
    "src_targ.to_csv(\"./zho_to_eng.csv\", index = False)\n",
    "   "
   ]
  },
  {
   "cell_type": "code",
   "execution_count": 18,
   "metadata": {},
   "outputs": [],
   "source": [
    "src_targ = pd.DataFrame()\n",
    "src_targ[\"zho\"] = src\n",
    "src_targ[\"eng\"] = targ\n",
    "src_targ.to_csv(\"./zho_to_en.csv\", index = True)"
   ]
  }
 ],
 "metadata": {
  "kernelspec": {
   "display_name": ".venv",
   "language": "python",
   "name": "python3"
  },
  "language_info": {
   "codemirror_mode": {
    "name": "ipython",
    "version": 3
   },
   "file_extension": ".py",
   "mimetype": "text/x-python",
   "name": "python",
   "nbconvert_exporter": "python",
   "pygments_lexer": "ipython3",
   "version": "3.12.7"
  }
 },
 "nbformat": 4,
 "nbformat_minor": 2
}
